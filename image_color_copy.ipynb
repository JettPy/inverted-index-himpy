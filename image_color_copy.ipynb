{
 "cells": [
  {
   "cell_type": "code",
   "execution_count": null,
   "metadata": {},
   "outputs": [],
   "source": [
    "import sys\n",
    "from plotly.subplots import make_subplots\n",
    "import plotly.graph_objects as go"
   ]
  },
  {
   "cell_type": "code",
   "execution_count": null,
   "metadata": {},
   "outputs": [],
   "source": [
    "from himpy.histogram import operations, expressionOperations\n",
    "from himpy.executor import Parser, Evaluator\n",
    "from himpy.utils import E"
   ]
  },
  {
   "cell_type": "code",
   "execution_count": null,
   "metadata": {},
   "outputs": [],
   "source": [
    "%load_ext autoreload\n",
    "%autoreload 2\n",
    "\n",
    "# dataset generator\n",
    "from utils.datasets import ColorImageGenerator\n",
    "\n",
    "# feature extraction\n",
    "from utils.feature_extraction import (\n",
    "    FeatureMerger,\n",
    "    ColorSetTransformer,\n",
    "    create_histogram,\n",
    "    create_histogram_\n",
    ")\n",
    "\n",
    "# search engine\n",
    "from utils.search_engine import SearchEngine\n",
    "\n",
    "# plot\n",
    "from utils.plot.plotly_plot import (\n",
    "    show_color_elements,\n",
    "    show_complete_histogram,\n",
    "    show_rank_images\n",
    ")\n",
    "\n",
    "# image colors\n",
    "from utils.feature_extraction.color import COLOR_ELEMENTS, COLOR_ELEMENTS_RGB"
   ]
  },
  {
   "cell_type": "code",
   "execution_count": null,
   "metadata": {},
   "outputs": [],
   "source": [
    "image_generator = ColorImageGenerator()\n",
    "color_transformer = ColorSetTransformer()\n",
    "parser = Parser()"
   ]
  },
  {
   "cell_type": "code",
   "execution_count": null,
   "metadata": {
    "pycharm": {
     "is_executing": true
    }
   },
   "outputs": [],
   "source": [
    "# Definition of high-level positional elements\n",
    "\n",
    "Ec_green        = E(\"e1+e2+e3+e4+e5+e6+e7+e8+e9+e10+e11+e12+e13+e14+e15+e16+e17+e18+e19+e20\")\n",
    "Ec_yellow_green = E(\"e2+e3+e21+e22+e23+e24+e25+e26+e27+e28+e29+e30\")\n",
    "Ec_red          = E(\"e31+e32+e33+e34+e35+e36+e37+e38+e39+e40\")\n",
    "Ec_rose         = E(\"e32+e35+e36+e39+e40\")\n",
    "\n",
    "\n",
    "Ecs = [\n",
    "    (\"green\", Ec_green),\n",
    "    (\"yellow_green\", Ec_yellow_green),\n",
    "    (\"red\", Ec_red),\n",
    "    (\"rose\", Ec_rose)\n",
    "]\n",
    "\n",
    "\n",
    "# Sets of hight-level color elements (they will be used for the Evaluator below)\n",
    "Ecs_set = { name: parser.parse_set(Ec.value) for name, Ec in Ecs}\n",
    "high_level_elements = Ecs_set"
   ]
  },
  {
   "cell_type": "markdown",
   "metadata": {},
   "source": [
    "## Image Retrieval"
   ]
  },
  {
   "cell_type": "code",
   "execution_count": null,
   "metadata": {},
   "outputs": [],
   "source": [
    "# Images with normal distrubited some elements \n",
    "images = [\n",
    "    image_generator.generate(\n",
    "        shape=(100, 100), \n",
    "        steps=(20, 20)) \n",
    "    for i in range(1000)\n",
    "]"
   ]
  },
  {
   "cell_type": "code",
   "execution_count": null,
   "metadata": {},
   "outputs": [],
   "source": [
    "# Create histograms for the images\n",
    "hists = list()\n",
    "limit = len(images)\n",
    "\n",
    "for indx, image in enumerate(images):\n",
    "    color_image = color_transformer.fit_transform(X=image, y=None)\n",
    "    hist = create_histogram((color_image,))\n",
    "    hists.append((indx, hist))\n",
    "    print(\"\\rCurrent image index: {}/{}\".format(indx + 1, limit), end=\"\")"
   ]
  },
  {
   "cell_type": "code",
   "execution_count": null,
   "outputs": [],
   "source": [
    "import pickle\n",
    "\n",
    "with open(\"hists.pkcl\", \"wb\") as f:\n",
    "    pickle.dump(hists, f)\n",
    "with open(\"images.pkcl\", \"wb\") as f:\n",
    "    pickle.dump(images, f)"
   ],
   "metadata": {
    "collapsed": false
   }
  },
  {
   "cell_type": "code",
   "execution_count": null,
   "metadata": {},
   "outputs": [],
   "source": [
    "# Initialize a search engine\n",
    "evaluator = Evaluator(operations, expressionOperations, high_level_elements=high_level_elements)\n",
    "search_engine_default = SearchEngine(hists, parser, evaluator, use_index=False)\n",
    "search_engine_inverted_index = SearchEngine(hists, parser, evaluator, use_index=True)"
   ]
  },
  {
   "cell_type": "code",
   "execution_count": null,
   "metadata": {},
   "outputs": [],
   "source": [
    "TOP_N = 20"
   ]
  },
  {
   "cell_type": "code",
   "execution_count": null,
   "metadata": {},
   "outputs": [],
   "source": [
    "# Elements\n",
    "E1 = E(\"green\")\n",
    "E2 = E(\"yellow_green\")\n",
    "E3 = E(\"red\")\n",
    "E4 = E(\"rose\")\n",
    "E5 = E(\"any\")\n",
    "\n",
    "# Define your query\n",
    "query = E3 - E4\n",
    "\n",
    "# Retrieve images using the query\n",
    "ranked_images = search_engine_inverted_index.retrieve(query, topN=TOP_N)\n",
    "print(\"Total retrieved images:\", len(ranked_images))\n",
    "ranked_images"
   ]
  },
  {
   "cell_type": "code",
   "execution_count": null,
   "metadata": {},
   "outputs": [],
   "source": [
    "fig = show_rank_images(images, ranked_images, limit=TOP_N, \n",
    "                       title=\"Top {}: <b>{}</b>\".format(TOP_N, query.value))\n",
    "fig.show()"
   ]
  },
  {
   "cell_type": "code",
   "execution_count": null,
   "metadata": {},
   "outputs": [],
   "source": [
    "for id, score in ranked_images:\n",
    "    green = evaluator.eval([\"green\"], hists[id][1]).sum() * 25\n",
    "    yellow_green = evaluator.eval([\"yellow_green\"], hists[id][1]).sum() * 25\n",
    "    red = evaluator.eval([\"red\"], hists[id][1]).sum() * 25\n",
    "    rose = evaluator.eval([\"rose\"], hists[id][1]).sum() * 25\n",
    "    print(f\"id: {id:>2}, green: {round(green):>2}, yellow: {round(yellow_green):>2}, red: {round(red):>2}, rose: {round(rose):>2}\")"
   ]
  },
  {
   "cell_type": "code",
   "execution_count": null,
   "metadata": {},
   "outputs": [],
   "source": [
    "ranked_images2 = search_engine_default.retrieve(query, topN=TOP_N)\n",
    "print(\"Total retrieved images:\", len(ranked_images2))\n",
    "ranked_images2[:5]"
   ]
  },
  {
   "cell_type": "code",
   "execution_count": null,
   "metadata": {},
   "outputs": [],
   "source": [
    "fig = show_rank_images(images, ranked_images2, limit=TOP_N, \n",
    "                       title=\"Top {}: <b>{}</b>\".format(TOP_N, query.value))\n",
    "fig.show()"
   ]
  }
 ],
 "metadata": {
  "kernelspec": {
   "display_name": "Python 3 (ipykernel)",
   "language": "python",
   "name": "python3"
  },
  "language_info": {
   "codemirror_mode": {
    "name": "ipython",
    "version": 3
   },
   "file_extension": ".py",
   "mimetype": "text/x-python",
   "name": "python",
   "nbconvert_exporter": "python",
   "pygments_lexer": "ipython3",
   "version": "3.10.4"
  }
 },
 "nbformat": 4,
 "nbformat_minor": 2
}
