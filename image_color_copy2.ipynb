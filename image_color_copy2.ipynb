{
 "cells": [
  {
   "cell_type": "code",
   "execution_count": 25,
   "metadata": {},
   "outputs": [],
   "source": [
    "import sys\n",
    "from plotly.subplots import make_subplots\n",
    "import plotly.graph_objects as go"
   ]
  },
  {
   "cell_type": "code",
   "execution_count": 26,
   "metadata": {},
   "outputs": [],
   "source": [
    "from himpy.histogram import operations, expressionOperations, Histogram1D\n",
    "from himpy.executor import Parser, Evaluator\n",
    "from himpy.utils import E"
   ]
  },
  {
   "cell_type": "code",
   "execution_count": 27,
   "metadata": {},
   "outputs": [
    {
     "name": "stdout",
     "output_type": "stream",
     "text": [
      "The autoreload extension is already loaded. To reload it, use:\n",
      "  %reload_ext autoreload\n"
     ]
    }
   ],
   "source": [
    "%load_ext autoreload\n",
    "%autoreload 2\n",
    "\n",
    "# dataset generator\n",
    "from utils.datasets import ColorImageGenerator\n",
    "\n",
    "# feature extraction\n",
    "from utils.feature_extraction import (\n",
    "    FeatureMerger,\n",
    "    ColorSetTransformer,\n",
    "    create_histogram,\n",
    "    create_histogram_\n",
    ")\n",
    "\n",
    "# search engine\n",
    "from utils.search_engine import SearchEngine\n",
    "\n",
    "# plot\n",
    "from utils.plot.plotly_plot import (\n",
    "    show_color_elements,\n",
    "    show_complete_histogram,\n",
    "    show_rank_images\n",
    ")\n",
    "\n",
    "# image colors\n",
    "from utils.feature_extraction.color import COLOR_ELEMENTS, COLOR_ELEMENTS_RGB"
   ]
  },
  {
   "cell_type": "code",
   "execution_count": 28,
   "metadata": {},
   "outputs": [],
   "source": [
    "image_generator = ColorImageGenerator()\n",
    "color_transformer = ColorSetTransformer()\n",
    "parser = Parser()"
   ]
  },
  {
   "cell_type": "code",
   "execution_count": 29,
   "metadata": {
    "pycharm": {
     "is_executing": true
    }
   },
   "outputs": [
    {
     "data": {
      "text/plain": [
       "{'green': {'e1',\n",
       "  'e10',\n",
       "  'e11',\n",
       "  'e12',\n",
       "  'e13',\n",
       "  'e14',\n",
       "  'e15',\n",
       "  'e16',\n",
       "  'e17',\n",
       "  'e18',\n",
       "  'e19',\n",
       "  'e2',\n",
       "  'e20',\n",
       "  'e3',\n",
       "  'e4',\n",
       "  'e5',\n",
       "  'e6',\n",
       "  'e7',\n",
       "  'e8',\n",
       "  'e9'},\n",
       " 'yellow_green': {'e2',\n",
       "  'e21',\n",
       "  'e22',\n",
       "  'e23',\n",
       "  'e24',\n",
       "  'e25',\n",
       "  'e26',\n",
       "  'e27',\n",
       "  'e28',\n",
       "  'e29',\n",
       "  'e3',\n",
       "  'e30'},\n",
       " 'red': {'e31', 'e32', 'e33', 'e34', 'e35', 'e36', 'e37', 'e38', 'e39', 'e40'},\n",
       " 'rose': {'e32', 'e35', 'e36', 'e39', 'e40'}}"
      ]
     },
     "execution_count": 29,
     "metadata": {},
     "output_type": "execute_result"
    }
   ],
   "source": [
    "# Definition of high-level positional elements\n",
    "\n",
    "Ec_green        = E(\"e1+e2+e3+e4+e5+e6+e7+e8+e9+e10+e11+e12+e13+e14+e15+e16+e17+e18+e19+e20\")\n",
    "Ec_yellow_green = E(\"e2+e3+e21+e22+e23+e24+e25+e26+e27+e28+e29+e30\")\n",
    "Ec_red          = E(\"e31+e32+e33+e34+e35+e36+e37+e38+e39+e40\")\n",
    "Ec_rose         = E(\"e32+e35+e36+e39+e40\")\n",
    "\n",
    "\n",
    "Ecs = [\n",
    "    (\"green\", Ec_green),\n",
    "    (\"yellow_green\", Ec_yellow_green),\n",
    "    (\"red\", Ec_red),\n",
    "    (\"rose\", Ec_rose)\n",
    "]\n",
    "\n",
    "\n",
    "# Sets of hight-level color elements (they will be used for the Evaluator below)\n",
    "Ecs_set = { name: parser.parse_set(Ec.value) for name, Ec in Ecs}\n",
    "high_level_elements = Ecs_set\n",
    "high_level_elements"
   ]
  },
  {
   "cell_type": "markdown",
   "metadata": {},
   "source": [
    "## Image Retrieval"
   ]
  },
  {
   "cell_type": "code",
   "execution_count": 30,
   "metadata": {},
   "outputs": [],
   "source": [
    "# Images with normal distrubited some elements \n",
    "# images = [\n",
    "#     image_generator.generate(\n",
    "#         shape=(100, 100), \n",
    "#         steps=(20, 20)) \n",
    "#     for i in range(10)\n",
    "# ]"
   ]
  },
  {
   "cell_type": "code",
   "execution_count": 31,
   "metadata": {},
   "outputs": [
    {
     "name": "stdout",
     "output_type": "stream",
     "text": [
      "[(0, {'e1': 0.04, 'e10': 0.04, 'e13': 0.04, 'e15': 0.04, 'e17': 0.08, 'e18': 0.04, 'e2': 0.12, 'e24': 0.04, 'e25': 0.04, 'e29': 0.04, 'e30': 0.04, 'e32': 0.04, 'e33': 0.04, 'e38': 0.08, 'e4': 0.04, 'e7': 0.12, 'e9': 0.12}), (1, {'e1': 0.08, 'e11': 0.04, 'e14': 0.04, 'e15': 0.04, 'e16': 0.04, 'e17': 0.04, 'e19': 0.04, 'e2': 0.04, 'e20': 0.04, 'e21': 0.04, 'e24': 0.04, 'e29': 0.16, 'e31': 0.04, 'e32': 0.04, 'e35': 0.04, 'e36': 0.04, 'e38': 0.04, 'e39': 0.04, 'e7': 0.04, 'e8': 0.08})]\n",
      "[(0, <himpy.histogram.Histogram1D object at 0x00000172B22F9720>), (1, <himpy.histogram.Histogram1D object at 0x00000172B22F9A50>)]\n"
     ]
    }
   ],
   "source": [
    "# Create histograms for the images\n",
    "# hists = list()\n",
    "# limit = len(images)\n",
    "\n",
    "# for indx, image in enumerate(images):\n",
    "#     color_image = color_transformer.fit_transform(X=image, y=None)\n",
    "#     hist = create_histogram((color_image,))\n",
    "#     hists.append((indx, hist))\n",
    "#     print(\"\\rCurrent image index: {}/{}\".format(indx + 1, limit), end=\"\")\n",
    "\n",
    "with open(\"data.txt\", \"r\") as data_file:\n",
    "    line = data_file.readline().strip()\n",
    "    id = 0\n",
    "    element = \"\"\n",
    "    frequency = 0.0\n",
    "    hist = {}\n",
    "    is_new_hist = True\n",
    "    is_element_key = True\n",
    "    hists_pairs = []\n",
    "\n",
    "    while line:\n",
    "        if is_new_hist:\n",
    "            id = int(line)\n",
    "            is_new_hist = False\n",
    "        elif line == \"X\":\n",
    "            hists_pairs.append((id, hist))\n",
    "            hist = {}\n",
    "            is_new_hist = True\n",
    "        elif is_element_key:\n",
    "            element = line\n",
    "            is_element_key = False\n",
    "        else:\n",
    "            frequency = float(line)\n",
    "            hist[element] = frequency\n",
    "            is_element_key = True\n",
    "        \n",
    "        line = data_file.readline().strip()\n",
    "\n",
    "print(hists_pairs[:2])\n",
    "hists = [(id, Histogram1D(hist)) for id, hist in hists_pairs]\n",
    "print(hists[:2])"
   ]
  },
  {
   "cell_type": "code",
   "execution_count": 32,
   "metadata": {
    "collapsed": false
   },
   "outputs": [],
   "source": [
    "import pickle\n",
    "\n",
    "# with open(\"hists.pkcl\", \"wb\") as f:\n",
    "#     pickle.dump(hists, f)\n",
    "# with open(\"images.pkcl\", \"wb\") as f:\n",
    "#     pickle.dump(images, f)\n",
    "    \n",
    "# with open(\"hists1.txt\", \"w\") as file:\n",
    "#     for id, hist in hists:\n",
    "#         file.write(str(id) + \"\\n\" + str(hist) + \"X\\n\")"
   ]
  },
  {
   "cell_type": "code",
   "execution_count": 33,
   "metadata": {},
   "outputs": [
    {
     "name": "stdout",
     "output_type": "stream",
     "text": [
      "{}\n"
     ]
    }
   ],
   "source": [
    "# Initialize a search engine\n",
    "evaluator = Evaluator(operations, expressionOperations, high_level_elements=high_level_elements)\n",
    "search_engine_default = SearchEngine(hists, parser, evaluator, use_index=False)\n",
    "search_engine_inverted_index = SearchEngine(hists, parser, evaluator, use_index=True)"
   ]
  },
  {
   "cell_type": "code",
   "execution_count": 34,
   "metadata": {},
   "outputs": [],
   "source": [
    "TOP_N = 20"
   ]
  },
  {
   "cell_type": "code",
   "execution_count": 35,
   "metadata": {},
   "outputs": [
    {
     "name": "stdout",
     "output_type": "stream",
     "text": [
      "Total retrieved images: 0\n"
     ]
    }
   ],
   "source": [
    "# Elements\n",
    "E1 = E(\"green\")\n",
    "E2 = E(\"yellow_green\")\n",
    "E3 = E(\"red\")\n",
    "E4 = E(\"rose\")\n",
    "E5 = E(\"any\")\n",
    "\n",
    "# Define your query\n",
    "query = E1 + E3\n",
    "\n",
    "# Retrieve images using the query\n",
    "ranked_images = search_engine_inverted_index.retrieve(query, top_n=100)\n",
    "print(\"Total retrieved images:\", len(ranked_images))\n",
    "# with open(\"result.txt\", \"w\") as file:\n",
    "#     file.write(str(ranked_images))\n",
    "# ranked_images"
   ]
  },
  {
   "cell_type": "code",
   "execution_count": 36,
   "metadata": {},
   "outputs": [
    {
     "ename": "NameError",
     "evalue": "name 'images' is not defined",
     "output_type": "error",
     "traceback": [
      "\u001b[1;31m---------------------------------------------------------------------------\u001b[0m",
      "\u001b[1;31mNameError\u001b[0m                                 Traceback (most recent call last)",
      "Cell \u001b[1;32mIn[36], line 1\u001b[0m\n\u001b[1;32m----> 1\u001b[0m fig \u001b[38;5;241m=\u001b[39m show_rank_images(\u001b[43mimages\u001b[49m, ranked_images, limit\u001b[38;5;241m=\u001b[39mTOP_N, \n\u001b[0;32m      2\u001b[0m                        title\u001b[38;5;241m=\u001b[39m\u001b[38;5;124m\"\u001b[39m\u001b[38;5;124mTop \u001b[39m\u001b[38;5;132;01m{}\u001b[39;00m\u001b[38;5;124m: <b>\u001b[39m\u001b[38;5;132;01m{}\u001b[39;00m\u001b[38;5;124m</b>\u001b[39m\u001b[38;5;124m\"\u001b[39m\u001b[38;5;241m.\u001b[39mformat(TOP_N, query\u001b[38;5;241m.\u001b[39mvalue))\n\u001b[0;32m      3\u001b[0m fig\u001b[38;5;241m.\u001b[39mshow()\n",
      "\u001b[1;31mNameError\u001b[0m: name 'images' is not defined"
     ]
    }
   ],
   "source": [
    "fig = show_rank_images(images, ranked_images, limit=TOP_N, \n",
    "                       title=\"Top {}: <b>{}</b>\".format(TOP_N, query.value))\n",
    "fig.show()"
   ]
  },
  {
   "cell_type": "code",
   "execution_count": null,
   "metadata": {},
   "outputs": [],
   "source": [
    "for id, score in ranked_images:\n",
    "    green = evaluator.eval([\"green\"], hists[id][1]).sum() * 25\n",
    "    yellow_green = evaluator.eval([\"yellow_green\"], hists[id][1]).sum() * 25\n",
    "    red = evaluator.eval([\"red\"], hists[id][1]).sum() * 25\n",
    "    rose = evaluator.eval([\"rose\"], hists[id][1]).sum() * 25\n",
    "    print(f\"id: {id:>2}, green: {round(green):>2}, yellow: {round(yellow_green):>2}, red: {round(red):>2}, rose: {round(rose):>2}\")"
   ]
  },
  {
   "cell_type": "code",
   "execution_count": null,
   "metadata": {},
   "outputs": [],
   "source": [
    "ranked_images2 = search_engine_default.retrieve(query, top_n=TOP_N)\n",
    "print(\"Total retrieved images:\", len(ranked_images2))\n",
    "ranked_images2[:5]"
   ]
  },
  {
   "cell_type": "code",
   "execution_count": null,
   "metadata": {},
   "outputs": [],
   "source": [
    "fig = show_rank_images(images, ranked_images2, limit=TOP_N, \n",
    "                       title=\"Top {}: <b>{}</b>\".format(TOP_N, query.value))\n",
    "fig.show()"
   ]
  }
 ],
 "metadata": {
  "kernelspec": {
   "display_name": "Python 3 (ipykernel)",
   "language": "python",
   "name": "python3"
  },
  "language_info": {
   "codemirror_mode": {
    "name": "ipython",
    "version": 3
   },
   "file_extension": ".py",
   "mimetype": "text/x-python",
   "name": "python",
   "nbconvert_exporter": "python",
   "pygments_lexer": "ipython3",
   "version": "3.10.4"
  }
 },
 "nbformat": 4,
 "nbformat_minor": 2
}
