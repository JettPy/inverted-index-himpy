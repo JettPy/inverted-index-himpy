{
 "cells": [
  {
   "cell_type": "code",
   "execution_count": null,
   "metadata": {},
   "outputs": [],
   "source": [
    "import pickle\n",
    "from himpy.histogram import operations, expressionOperations\n",
    "from himpy.executor import Parser, Evaluator\n",
    "from himpy.utils import E\n",
    "from utils.search_engine import SearchEngine\n",
    "from utils.plot.plotly_plot import show_rank_images"
   ]
  },
  {
   "cell_type": "code",
   "execution_count": null,
   "metadata": {},
   "outputs": [],
   "source": [
    "parser = Parser()\n",
    "Ec_green        = E(\"e1+e2+e3+e4+e5+e6+e7+e8+e9+e10+e11+e12+e13+e14+e15+e16+e17+e18+e19+e20\")\n",
    "Ec_yellow_green = E(\"e2+e3+e21+e22+e23+e24+e25+e26+e27+e28+e29+e30\")\n",
    "Ec_red          = E(\"e31+e32+e33+e34+e35+e36+e37+e38+e39+e40\")\n",
    "Ec_rose         = E(\"e32+e35+e36+e39+e40\")\n",
    "Ecs = [\n",
    "    (\"green\", Ec_green),\n",
    "    (\"yellow_green\", Ec_yellow_green),\n",
    "    (\"red\", Ec_red),\n",
    "    (\"rose\", Ec_rose)\n",
    "]\n",
    "high_level_elements = { name: parser.parse_set(Ec.value) for name, Ec in Ecs}"
   ]
  },
  {
   "cell_type": "code",
   "execution_count": null,
   "metadata": {
    "collapsed": false
   },
   "outputs": [],
   "source": [
    "with open(\"hists.pkcl\", \"rb\") as f:\n",
    "    hists = pickle.load(f)\n",
    "with open(\"images.pkcl\", \"rb\") as f:\n",
    "    images = pickle.load(f)"
   ]
  },
  {
   "cell_type": "code",
   "execution_count": null,
   "metadata": {},
   "outputs": [],
   "source": [
    "evaluator = Evaluator(operations, expressionOperations, high_level_elements=high_level_elements)\n",
    "search_engine_default = SearchEngine(hists, parser, evaluator, use_index=False)\n",
    "search_engine_inverted_index = SearchEngine(hists, parser, evaluator, use_index=True)"
   ]
  },
  {
   "cell_type": "code",
   "execution_count": null,
   "metadata": {
    "collapsed": false
   },
   "outputs": [],
   "source": [
    "TOP_N = 20\n",
    "\n",
    "E1 = E(\"green\")\n",
    "E2 = E(\"yellow_green\")\n",
    "E3 = E(\"red\")\n",
    "E4 = E(\"rose\")\n",
    "E5 = E(\"any\")\n",
    "\n",
    "query = E1 * E('e1+e2+e3')"
   ]
  },
  {
   "cell_type": "code",
   "execution_count": null,
   "metadata": {},
   "outputs": [],
   "source": [
    "ranked_images = search_engine_inverted_index.retrieve(query, top_n=1000)\n",
    "print(\"Total retrieved images:\", len(ranked_images))\n",
    "ranked_images[:5]"
   ]
  },
  {
   "cell_type": "code",
   "execution_count": null,
   "metadata": {},
   "outputs": [],
   "source": [
    "fig = show_rank_images(images, ranked_images, limit=TOP_N, \n",
    "                       title=\"Top {}: <b>{}</b>\".format(TOP_N, query.value))\n",
    "fig.show()"
   ]
  },
  {
   "cell_type": "code",
   "execution_count": null,
   "metadata": {},
   "outputs": [],
   "source": [
    "ranked_images2 = search_engine_default.retrieve(query, top_n=1000)\n",
    "print(\"Total retrieved images:\", len(ranked_images2))\n",
    "ranked_images2[:5]"
   ]
  },
  {
   "cell_type": "code",
   "execution_count": null,
   "metadata": {},
   "outputs": [],
   "source": [
    "fig = show_rank_images(images, ranked_images2, limit=TOP_N, \n",
    "                       title=\"Top {}: <b>{}</b>\".format(TOP_N, query.value))\n",
    "fig.show()"
   ]
  },
  {
   "cell_type": "code",
   "execution_count": null,
   "metadata": {
    "collapsed": false
   },
   "outputs": [],
   "source": [
    "with open(\"inverted_ranks.txt\", \"w\") as f:\n",
    "    for id, score in ranked_images:\n",
    "        green = evaluator.eval([\"green\"], hists[id][1]).sum() * 25\n",
    "        yellow_green = evaluator.eval([\"yellow_green\"], hists[id][1]).sum() * 25\n",
    "        red = evaluator.eval([\"red\"], hists[id][1]).sum() * 25\n",
    "        rose = evaluator.eval([\"rose\"], hists[id][1]).sum() * 25\n",
    "        f.write(f\"id: {id:>3}, score: {round(score, 4):>6}, green: {round(green):>2}, yellow: {round(yellow_green):>2}, red: {round(red):>2}, rose: {round(rose):>2}\\n\")\n",
    "with open(\"brute_ranks.txt\", \"w\") as f:\n",
    "    for id, score in ranked_images2:\n",
    "        green = evaluator.eval([\"green\"], hists[id][1]).sum() * 25\n",
    "        yellow_green = evaluator.eval([\"yellow_green\"], hists[id][1]).sum() * 25\n",
    "        red = evaluator.eval([\"red\"], hists[id][1]).sum() * 25\n",
    "        rose = evaluator.eval([\"rose\"], hists[id][1]).sum() * 25\n",
    "        f.write(f\"id: {id:>3}, score: {round(score, 4):>6}, green: {round(green):>2}, yellow: {round(yellow_green):>2}, red: {round(red):>2}, rose: {round(rose):>2}\\n\")"
   ]
  }
 ],
 "metadata": {
  "kernelspec": {
   "display_name": "Python 3 (ipykernel)",
   "language": "python",
   "name": "python3"
  },
  "language_info": {
   "codemirror_mode": {
    "name": "ipython",
    "version": 3
   },
   "file_extension": ".py",
   "mimetype": "text/x-python",
   "name": "python",
   "nbconvert_exporter": "python",
   "pygments_lexer": "ipython3",
   "version": "3.10.4"
  }
 },
 "nbformat": 4,
 "nbformat_minor": 2
}
